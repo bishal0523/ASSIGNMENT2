{
 "cells": [
  {
   "cell_type": "code",
   "execution_count": 1,
   "id": "5c2357eb-e6e5-4bdd-852b-85c858526917",
   "metadata": {},
   "outputs": [
    {
     "name": "stdout",
     "output_type": "stream",
     "text": [
      "['h', 'e', 'l', 'l', 'o']\n"
     ]
    }
   ],
   "source": [
    "#ASSIGNMENT 2\n",
    "#Q1.How to comment code in python?what are the different types of comments?\n",
    "#ans-in python you add comments to your code to provide explanation,clarify functionally or make notes for yourself or other developers\n",
    "#who may read the code .python supports two types of comments.single line comments and multiline comments\n",
    "#1.single line comment-to add a single line commment use the hash symbol followed by the comment text.anything after the hash symbol on\n",
    "#that line is considered a comment and is ignored by the interpreter for example\n",
    "#example-this is a single line comment.\n",
    "#2.multiline comments-python doesnt have a specific syntax for multiline like some other programming languages.however ypou can use triple\n",
    "#quotes to create a multiline strings which are often used as multiline comments for example\n",
    "#\"\"\"\n",
    "#this is a multiline comment\n",
    "#it can span across multiline comments\n",
    "#\"\"\"\n",
    "#Q2.What are variables in python?how do you declare and assign value to variables?\n",
    "#ans-in pythons variables are used to store and reference data values.they acts as placeholders for various type of information such as numberes text\n",
    "#to declare and assign a value to a variable in python,you can follow these steps\n",
    "#1.variable declaration-unlike some other programming language python does not require expilict declaration.you can simply assign a value to a variable\n",
    "#my_variable=10\n",
    "#assigning a value-to assign a value to a you can use the assignment\n",
    " #operator(=)the value on the right side = assign to the left side \n",
    "#for example \n",
    "#my_variable=20\n",
    "#here the variable my_variable is assigned 20\n",
    "#Q3.how do you convert one data type into another in python?\n",
    "#In Python, you can convert one data type into another using type conversion functions or techniques specific to each data type. Here are some commonly used methods for type conversion:\n",
    "#implict type conversion-python automatically performs a implict type conversion when its safe to do so for example when performing  arithmetic\n",
    "#operations involving different data types python will convert into a common data type coercion\n",
    "#sometimes you need to explicitly to convert a variable from one adta type to  another python provides built in function for explict type conversion\n",
    "#int()-Converts a value to an integer data type.\n",
    "#float(): Converts a value to a floating-point data type.\n",
    "#str(): Converts a value to a string data type.\n",
    "#list(): Converts a value to a list data type.\n",
    "#tuple(): Converts a value to a tuple data type.\n",
    "#set(): Converts a value to a set data type.\n",
    "#dict(): Converts a value to a dictionary data type.\n",
    "#Type-Specific Conversion Functions: Some data types have their own specific conversion functions. For example, the list() function can convert a string or tuple to a list, or the str() function can convert a numeric value to a string.\n",
    "#String Conversion to Numeric Types: You can convert a string to numeric types like int or float using the respective type conversion functions. For example:\n",
    "my_string=\"hello\"\n",
    "my_list=list(my_string)\n",
    "print(my_list)"
   ]
  },
  {
   "cell_type": "code",
   "execution_count": 4,
   "id": "1b0c1feb-905e-40c9-939d-6c9b33dbfb18",
   "metadata": {},
   "outputs": [
    {
     "name": "stdout",
     "output_type": "stream",
     "text": [
      "[2, 3]\n"
     ]
    }
   ],
   "source": [
    "#4.how to you write and execute a python script from command line\n",
    "#to write and execute a python script from the commandline you can follow these steps\n",
    "#Open a text editor: Use a text editor of your choice, such as Notepad, Sublime Text, or Visual Studio Code, to write your Python script.\n",
    "#Write your Python script: In the text editor, write your Python code. For example, let's create a simple \"hello.py\" script that prints \"Hello, World!\":\n",
    "#Save the Python script: Save the Python script with a .py extension. For example, save the script as \"hello.py\".\n",
    "#Open the command line: Open the command line or terminal on your operating system.\n",
    "#Navigate to the script's directory: Use the cd command to navigate to the directory where your Python script is saved. For example, if the script is saved in the \"Documents\" folder, you can navigate there using the command:\n",
    "#Execute the Python script: To execute the Python script from the command line, type python followed by the script's filename. For example:\n",
    "# python hello.py\n",
    "  # This command will run the Python interpreter, which will execute the commands written in your script. In this case, it will print \"Hello, World!\" to the console.\n",
    "# should see the output of your Python script displayed in the command line or terminal.\n",
    "\n",
    "#Q5.Given a list my_list=[1,2,3,4,5] write the code to slice the list and obtain the subllist [2,3]\n",
    "#ans-\n",
    "my_list=[1,2,3,4,5]\n",
    "slice_1=my_list[1:3]\n",
    "print(slice_1)\n",
    "\n"
   ]
  },
  {
   "cell_type": "code",
   "execution_count": 5,
   "id": "4f6187f9-cb77-4015-8b75-bba2c1a23270",
   "metadata": {},
   "outputs": [
    {
     "data": {
      "text/plain": [
       "float"
      ]
     },
     "execution_count": 5,
     "metadata": {},
     "output_type": "execute_result"
    }
   ],
   "source": [
    "#Q6.What is complex number in mathematics and how it is represented in python?\n",
    "#In mathematics, a complex number is a number that comprises both a real part and an imaginary part. It is represented in the form \"a + bi\", where \"a\" is the real part and \"b\" is the imaginary part, and \"i\" represents the imaginary unit (√-1).\n",
    "\n",
    "#In Python, complex numbers are supported as a built-in data type. They can be represented using the complex() function or by directly specifying the real and imaginary parts.\n",
    "\n",
    "#Here are a few examples of representing complex numbers in Python:\n",
    "\n",
    "    #Using the complex() function:\n",
    "\n",
    "#python\n",
    "\n",
    "#z = complex(2, 3)  # Represents the complex number 2 + 3i\n",
    "\n",
    "   # Directly specifying the real and imaginary parts:\n",
    "\n",
    "#python\n",
    "\n",
    "#z = 4 + 2j  # Represents the complex number 4 + 2i\n",
    "\n",
    "#Once a complex number is defined, you can perform various operations on it, such as addition, subtraction, multiplication, division, and more. Python provides built-in operators and functions to work with complex numbers.\n",
    "\n",
    "#Here's an example that demonstrates some basic operations with complex numbers in Python:\n",
    "\n",
    "#python\n",
    "\n",
    "#z1 = 2 + 3j\n",
    "#z2 = 4 - 2j\n",
    "#Q7.What is the correct way to declare a variable and assign a value of 25 to it?\n",
    "#ans-To declare a variable named age and assign the value 25 to it in Python, you can simply use the following code:\n",
    "#python\n",
    "#age = 25\n",
    "#In this example, the variable age is declared and assigned the value 25 using the assignment operator (=). The data type of the variable is determined automatically based on the assigned value.\n",
    "#After executing this code, the variable age will hold the value 25, which you can use later in your program as needed.\n",
    "\n",
    "#Q8.declare a variable named price and assign the value 9.99 to it.what data type does these variable belong to?\n",
    "#ans-when you declare a variable named price and assign the value of 9.99 to it in python the variable belong to float data type\n",
    "#the float data type represent decimal numbers also known as floating point numbers it is used to store data values with fractional parts\n",
    "#in these case the value 9.99 contain a decimal point making it a floating point number\n",
    "price=9.99\n",
    "type(price)\n"
   ]
  },
  {
   "cell_type": "code",
   "execution_count": 6,
   "id": "6b412d23-0e3d-4a3f-ab3a-0366bb2a2e52",
   "metadata": {},
   "outputs": [
    {
     "name": "stdout",
     "output_type": "stream",
     "text": [
      "bishal\n"
     ]
    }
   ],
   "source": [
    "#9.create a variable named name and assign your full name to it as string.how would you print the value of these variable?\n",
    "#ans-\n",
    "name=\"bishal\"\n",
    "print(name)"
   ]
  },
  {
   "cell_type": "code",
   "execution_count": 7,
   "id": "9f94e2da-80fe-4c8e-9eea-32dd609af1d3",
   "metadata": {},
   "outputs": [
    {
     "name": "stdout",
     "output_type": "stream",
     "text": [
      "World!\n"
     ]
    }
   ],
   "source": [
    "#10.Given the string \"Hello,World!\",EXTRACT THE SUBSTRING \"WORLD\".\n",
    "my_string=\"Hello,World!\"\n",
    "substring=my_string.split(\",\")[1]\n",
    "print(substring)"
   ]
  },
  {
   "cell_type": "code",
   "execution_count": 10,
   "id": "ab8c36c7-cd8a-46c2-8cb9-79d33ec2fb2f",
   "metadata": {},
   "outputs": [
    {
     "name": "stdout",
     "output_type": "stream",
     "text": [
      "True\n"
     ]
    }
   ],
   "source": [
    "#11.create a variable named \"is_student\" and assign it a boolean value indicating whether you are currently a student or not.\n",
    "#AS INAM \n",
    "is_student=True\n",
    "print(is_student)"
   ]
  },
  {
   "cell_type": "code",
   "execution_count": null,
   "id": "8e4d6d58-5b68-443a-94e9-0276d194cb82",
   "metadata": {},
   "outputs": [],
   "source": []
  },
  {
   "cell_type": "code",
   "execution_count": null,
   "id": "b753576b-859a-4009-b751-eea73f38d9b1",
   "metadata": {},
   "outputs": [],
   "source": []
  }
 ],
 "metadata": {
  "kernelspec": {
   "display_name": "Python 3 (ipykernel)",
   "language": "python",
   "name": "python3"
  },
  "language_info": {
   "codemirror_mode": {
    "name": "ipython",
    "version": 3
   },
   "file_extension": ".py",
   "mimetype": "text/x-python",
   "name": "python",
   "nbconvert_exporter": "python",
   "pygments_lexer": "ipython3",
   "version": "3.10.8"
  }
 },
 "nbformat": 4,
 "nbformat_minor": 5
}
